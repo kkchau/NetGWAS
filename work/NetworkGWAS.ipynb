{
 "cells": [
  {
   "cell_type": "markdown",
   "metadata": {},
   "source": [
    "# Network-based Gene Prioritization from GWAS Data\n",
    "MED283: Network Biology & Biomedicine  \n",
    "Nadia Arang & Kevin Chau"
   ]
  },
  {
   "cell_type": "markdown",
   "metadata": {},
   "source": [
    "TODO:\n",
    "1. Map rescores to old gene summaries table\n",
    "2. SNP assignment according to regression analysis"
   ]
  },
  {
   "cell_type": "code",
   "execution_count": 1,
   "metadata": {},
   "outputs": [],
   "source": [
    "%matplotlib inline\n",
    "\n",
    "import ndex2\n",
    "import math\n",
    "import networkx as nx\n",
    "import pandas as pd\n",
    "import numpy as np\n",
    "import matplotlib.pyplot as plt\n",
    "import seaborn as sns\n",
    "from scipy.stats import spearmanr"
   ]
  },
  {
   "cell_type": "markdown",
   "metadata": {},
   "source": [
    "## Initial data loading"
   ]
  },
  {
   "cell_type": "markdown",
   "metadata": {},
   "source": [
    "GIANT\n",
    "> Greene CS*, Krishnan A*, Wong AK*, Ricciotti E, Zelaya RA, Himmelstein DS, Zhang R, Hartmann BM, Zaslavsky E, Sealfon SC, Chasman DI, FitzGerald GA, Dolinski K, Grosser T, Troyanskaya OG. (2015). Understanding multicellular function and disease with human tissue-specific networks. Nature Genetics. 10.1038/ng.3259w.\n",
    "\n",
    "PCNet\n",
    "> Huang JK*, Carlin DE*, Yu MK, Zhang W, Kreisberg JF, Tamayo P, Ideker T. (2018). Systematic Evaluation of Molecular Networks for Discovery of Disease Genes. Cell Systems. 4 (6): 484-495.e5. doi: 10.1016/j.cels.2018.03.001"
   ]
  },
  {
   "cell_type": "code",
   "execution_count": 2,
   "metadata": {},
   "outputs": [],
   "source": [
    "# Load network from server\n",
    "# PCNet\n",
    "# pc_nice = ndex2.create_nice_cx_from_server(server = \"http://public.ndexbio.org\", \n",
    "#                                            uuid = \"f93f402c-86d4-11e7-a10d-0ac135e8bacf\")\n",
    "\n",
    "# GIANT; Brain-specific, 0.2-confidence filter\n",
    "bn_nice = ndex2.create_nice_cx_from_server(server = \"http://public.ndexbio.org\", \n",
    "                                           uuid = \"19677bff-6037-11e8-a4bf-0ac135e8bacf\")"
   ]
  },
  {
   "cell_type": "code",
   "execution_count": 3,
   "metadata": {},
   "outputs": [],
   "source": [
    "# Cast as networkx object\n",
    "# First cast to pandas since networkx 2.1 is incompatible with ndex2\n",
    "# nt_pd = pc_nice.to_pandas_dataframe()\n",
    "nt_pd = bn_nice.to_pandas_dataframe()\n",
    "net = nx.from_pandas_edgelist(nt_pd)"
   ]
  },
  {
   "cell_type": "code",
   "execution_count": 4,
   "metadata": {},
   "outputs": [
    {
     "data": {
      "text/html": [
       "<div>\n",
       "<style scoped>\n",
       "    .dataframe tbody tr th:only-of-type {\n",
       "        vertical-align: middle;\n",
       "    }\n",
       "\n",
       "    .dataframe tbody tr th {\n",
       "        vertical-align: top;\n",
       "    }\n",
       "\n",
       "    .dataframe thead th {\n",
       "        text-align: right;\n",
       "    }\n",
       "</style>\n",
       "<table border=\"1\" class=\"dataframe\">\n",
       "  <thead>\n",
       "    <tr style=\"text-align: right;\">\n",
       "      <th></th>\n",
       "      <th>Unnamed: 0</th>\n",
       "      <th>Chr</th>\n",
       "      <th>Gene Start</th>\n",
       "      <th>Gene End</th>\n",
       "      <th>nSNPs</th>\n",
       "      <th>TopSNP</th>\n",
       "      <th>TopSNP Pos</th>\n",
       "      <th>TopSNP P-Value</th>\n",
       "      <th>SNP Distance</th>\n",
       "    </tr>\n",
       "    <tr>\n",
       "      <th>Gene</th>\n",
       "      <th></th>\n",
       "      <th></th>\n",
       "      <th></th>\n",
       "      <th></th>\n",
       "      <th></th>\n",
       "      <th></th>\n",
       "      <th></th>\n",
       "      <th></th>\n",
       "      <th></th>\n",
       "    </tr>\n",
       "  </thead>\n",
       "  <tbody>\n",
       "    <tr>\n",
       "      <th>HIST1H4K</th>\n",
       "      <td>5905</td>\n",
       "      <td>6</td>\n",
       "      <td>27906930</td>\n",
       "      <td>27907284</td>\n",
       "      <td>8</td>\n",
       "      <td>rs34706883</td>\n",
       "      <td>27913234.0</td>\n",
       "      <td>5.071180e-10</td>\n",
       "      <td>6304.0</td>\n",
       "    </tr>\n",
       "    <tr>\n",
       "      <th>HIST1H2AK</th>\n",
       "      <td>5867</td>\n",
       "      <td>6</td>\n",
       "      <td>27913636</td>\n",
       "      <td>27914096</td>\n",
       "      <td>16</td>\n",
       "      <td>rs34706883</td>\n",
       "      <td>27913234.0</td>\n",
       "      <td>5.071180e-10</td>\n",
       "      <td>402.0</td>\n",
       "    </tr>\n",
       "    <tr>\n",
       "      <th>HIST1H2BN</th>\n",
       "      <td>5883</td>\n",
       "      <td>6</td>\n",
       "      <td>27914418</td>\n",
       "      <td>27914867</td>\n",
       "      <td>17</td>\n",
       "      <td>rs34706883</td>\n",
       "      <td>27913234.0</td>\n",
       "      <td>5.071180e-10</td>\n",
       "      <td>1184.0</td>\n",
       "    </tr>\n",
       "    <tr>\n",
       "      <th>HIST1H2AL</th>\n",
       "      <td>5868</td>\n",
       "      <td>6</td>\n",
       "      <td>27941085</td>\n",
       "      <td>27941555</td>\n",
       "      <td>10</td>\n",
       "      <td>rs13199772</td>\n",
       "      <td>27942064.0</td>\n",
       "      <td>7.053790e-10</td>\n",
       "      <td>979.0</td>\n",
       "    </tr>\n",
       "    <tr>\n",
       "      <th>HIST1H1B</th>\n",
       "      <td>5855</td>\n",
       "      <td>6</td>\n",
       "      <td>27942548</td>\n",
       "      <td>27943338</td>\n",
       "      <td>10</td>\n",
       "      <td>rs13199772</td>\n",
       "      <td>27942064.0</td>\n",
       "      <td>7.053790e-10</td>\n",
       "      <td>484.0</td>\n",
       "    </tr>\n",
       "  </tbody>\n",
       "</table>\n",
       "</div>"
      ],
      "text/plain": [
       "           Unnamed: 0  Chr  Gene Start  Gene End  nSNPs      TopSNP  \\\n",
       "Gene                                                                  \n",
       "HIST1H4K         5905    6    27906930  27907284      8  rs34706883   \n",
       "HIST1H2AK        5867    6    27913636  27914096     16  rs34706883   \n",
       "HIST1H2BN        5883    6    27914418  27914867     17  rs34706883   \n",
       "HIST1H2AL        5868    6    27941085  27941555     10  rs13199772   \n",
       "HIST1H1B         5855    6    27942548  27943338     10  rs13199772   \n",
       "\n",
       "           TopSNP Pos  TopSNP P-Value  SNP Distance  \n",
       "Gene                                                 \n",
       "HIST1H4K   27913234.0    5.071180e-10        6304.0  \n",
       "HIST1H2AK  27913234.0    5.071180e-10         402.0  \n",
       "HIST1H2BN  27913234.0    5.071180e-10        1184.0  \n",
       "HIST1H2AL  27942064.0    7.053790e-10         979.0  \n",
       "HIST1H1B   27942064.0    7.053790e-10         484.0  "
      ]
     },
     "execution_count": 4,
     "metadata": {},
     "output_type": "execute_result"
    }
   ],
   "source": [
    "# Load gene summary table\n",
    "gene_summaries_given = pd.read_csv(\"../src/gene_level_summary_stats_pmid_25056061.txt\", \n",
    "                                   header = 0, sep = '\\t', index_col = 1)\n",
    "gene_summaries_given.head()"
   ]
  },
  {
   "cell_type": "code",
   "execution_count": 5,
   "metadata": {},
   "outputs": [
    {
     "data": {
      "text/plain": [
       "Text(0.5,0,'Chromosome')"
      ]
     },
     "execution_count": 5,
     "metadata": {},
     "output_type": "execute_result"
    },
    {
     "data": {
      "image/png": "[encoded data removed]",
      "text/plain": [
       "<Figure size 432x288 with 1 Axes>"
      ]
     },
     "metadata": {},
     "output_type": "display_data"
    }
   ],
   "source": [
    "# Quick Manhattan plot\n",
    "gs_man = gene_summaries_given\n",
    "gs_man[\"-log(Pvalue)\"] = -np.log10(gene_summaries_given[\"TopSNP P-Value\"])\n",
    "gs_man[\"Chr\"] = gene_summaries_given[\"Chr\"].astype(\"category\")\n",
    "gs_man = gene_summaries_given.sort_values(\"Chr\")\n",
    "\n",
    "gs_man[\"ind\"] = range(len(gs_man))\n",
    "gs_groups = gs_man.groupby((\"Chr\"))\n",
    "\n",
    "fig = plt.figure()\n",
    "ax = fig.add_subplot(111)\n",
    "colors = [\"red\", \"green\", \"blue\", \"yellow\"]\n",
    "\n",
    "x_labels = []\n",
    "x_labels_pos = []\n",
    "\n",
    "for num, (name, group) in enumerate(gs_groups):\n",
    "    group.plot(kind = \"scatter\", x = \"ind\", y = \"-log(Pvalue)\", color = colors[num % len(colors)], ax = ax)\n",
    "    x_labels.append(name)\n",
    "    x_labels_pos.append((group['ind'].iloc[-1] - (group['ind'].iloc[-1] - group['ind'].iloc[0])/2))\n",
    "    \n",
    "ax.set_xticks(x_labels_pos)\n",
    "ax.set_xticklabels(x_labels)\n",
    "ax.set_xlim([0, len(gs_man)])\n",
    "# ax.set_ylim([0, 3.5])\n",
    "ax.set_xlabel('Chromosome')"
   ]
  },
  {
   "cell_type": "code",
   "execution_count": 6,
   "metadata": {},
   "outputs": [
    {
     "data": {
      "text/html": [
       "<div>\n",
       "<style scoped>\n",
       "    .dataframe tbody tr th:only-of-type {\n",
       "        vertical-align: middle;\n",
       "    }\n",
       "\n",
       "    .dataframe tbody tr th {\n",
       "        vertical-align: top;\n",
       "    }\n",
       "\n",
       "    .dataframe thead th {\n",
       "        text-align: right;\n",
       "    }\n",
       "</style>\n",
       "<table border=\"1\" class=\"dataframe\">\n",
       "  <thead>\n",
       "    <tr style=\"text-align: right;\">\n",
       "      <th></th>\n",
       "      <th>hg18chr</th>\n",
       "      <th>bp</th>\n",
       "      <th>a1</th>\n",
       "      <th>a2</th>\n",
       "      <th>or</th>\n",
       "      <th>se</th>\n",
       "      <th>pval</th>\n",
       "      <th>info</th>\n",
       "      <th>ngt</th>\n",
       "      <th>CEUaf</th>\n",
       "    </tr>\n",
       "    <tr>\n",
       "      <th>snpid</th>\n",
       "      <th></th>\n",
       "      <th></th>\n",
       "      <th></th>\n",
       "      <th></th>\n",
       "      <th></th>\n",
       "      <th></th>\n",
       "      <th></th>\n",
       "      <th></th>\n",
       "      <th></th>\n",
       "      <th></th>\n",
       "    </tr>\n",
       "  </thead>\n",
       "  <tbody>\n",
       "    <tr>\n",
       "      <th>rs3131972</th>\n",
       "      <td>1</td>\n",
       "      <td>742584</td>\n",
       "      <td>A</td>\n",
       "      <td>G</td>\n",
       "      <td>1.0257</td>\n",
       "      <td>0.0835</td>\n",
       "      <td>0.761033</td>\n",
       "      <td>0.1613</td>\n",
       "      <td>0</td>\n",
       "      <td>0.160550</td>\n",
       "    </tr>\n",
       "    <tr>\n",
       "      <th>rs3131969</th>\n",
       "      <td>1</td>\n",
       "      <td>744045</td>\n",
       "      <td>A</td>\n",
       "      <td>G</td>\n",
       "      <td>1.0221</td>\n",
       "      <td>0.0801</td>\n",
       "      <td>0.784919</td>\n",
       "      <td>0.2225</td>\n",
       "      <td>0</td>\n",
       "      <td>0.133028</td>\n",
       "    </tr>\n",
       "    <tr>\n",
       "      <th>rs3131967</th>\n",
       "      <td>1</td>\n",
       "      <td>744197</td>\n",
       "      <td>T</td>\n",
       "      <td>C</td>\n",
       "      <td>1.0227</td>\n",
       "      <td>0.0858</td>\n",
       "      <td>0.793520</td>\n",
       "      <td>0.2060</td>\n",
       "      <td>0</td>\n",
       "      <td>NaN</td>\n",
       "    </tr>\n",
       "    <tr>\n",
       "      <th>rs1048488</th>\n",
       "      <td>1</td>\n",
       "      <td>750775</td>\n",
       "      <td>T</td>\n",
       "      <td>C</td>\n",
       "      <td>0.9749</td>\n",
       "      <td>0.0835</td>\n",
       "      <td>0.761041</td>\n",
       "      <td>0.1613</td>\n",
       "      <td>0</td>\n",
       "      <td>0.836449</td>\n",
       "    </tr>\n",
       "    <tr>\n",
       "      <th>rs12562034</th>\n",
       "      <td>1</td>\n",
       "      <td>758311</td>\n",
       "      <td>A</td>\n",
       "      <td>G</td>\n",
       "      <td>1.0011</td>\n",
       "      <td>0.0756</td>\n",
       "      <td>0.987899</td>\n",
       "      <td>0.1856</td>\n",
       "      <td>3</td>\n",
       "      <td>0.092593</td>\n",
       "    </tr>\n",
       "  </tbody>\n",
       "</table>\n",
       "</div>"
      ],
      "text/plain": [
       "            hg18chr      bp a1 a2      or      se      pval    info  ngt  \\\n",
       "snpid                                                                      \n",
       "rs3131972         1  742584  A  G  1.0257  0.0835  0.761033  0.1613    0   \n",
       "rs3131969         1  744045  A  G  1.0221  0.0801  0.784919  0.2225    0   \n",
       "rs3131967         1  744197  T  C  1.0227  0.0858  0.793520  0.2060    0   \n",
       "rs1048488         1  750775  T  C  0.9749  0.0835  0.761041  0.1613    0   \n",
       "rs12562034        1  758311  A  G  1.0011  0.0756  0.987899  0.1856    3   \n",
       "\n",
       "              CEUaf   \n",
       "snpid                 \n",
       "rs3131972   0.160550  \n",
       "rs3131969   0.133028  \n",
       "rs3131967        NaN  \n",
       "rs1048488   0.836449  \n",
       "rs12562034  0.092593  "
      ]
     },
     "execution_count": 6,
     "metadata": {},
     "output_type": "execute_result"
    }
   ],
   "source": [
    "# Load snp summary table\n",
    "snp_summaries = pd.read_csv(\"../src/snp_level_summary_stats_pmid_25056061.txt\", \n",
    "                            header = 0, sep = '\\t', index_col = 0, na_values = \".\")\n",
    "snp_summaries.head()"
   ]
  },
  {
   "cell_type": "markdown",
   "metadata": {},
   "source": [
    "### Gene significance by normalized p-value\n",
    "\n",
    "https://www.ncbi.nlm.nih.gov/pmc/articles/PMC3128073/"
   ]
  },
  {
   "cell_type": "code",
   "execution_count": 7,
   "metadata": {},
   "outputs": [
    {
     "data": {
      "text/plain": [
       "<matplotlib.axes._subplots.AxesSubplot at 0x7f93a9a0b390>"
      ]
     },
     "execution_count": 7,
     "metadata": {},
     "output_type": "execute_result"
    },
    {
     "data": {
      "image/png": "[encoded data removed]",
      "text/plain": [
       "<Figure size 432x288 with 1 Axes>"
      ]
     },
     "metadata": {},
     "output_type": "display_data"
    }
   ],
   "source": [
    "# Rationale\n",
    "fig2 = plt.figure()\n",
    "ax = fig2.add_subplot(111)\n",
    "sns.regplot((gene_summaries_given[\"nSNPs\"]), (gene_summaries_given[\"TopSNP P-Value\"]), fit_reg = False)\n",
    "#ax.set_ylim(-0.3, 1)"
   ]
  },
  {
   "cell_type": "code",
   "execution_count": 8,
   "metadata": {},
   "outputs": [],
   "source": [
    "fig2.savefig(\"../data/gene_snp_correlation.png\")"
   ]
  },
  {
   "cell_type": "code",
   "execution_count": 9,
   "metadata": {},
   "outputs": [
    {
     "data": {
      "text/plain": [
       "(-0.20155646638624297, 5.578098517955562e-137)"
      ]
     },
     "execution_count": 9,
     "metadata": {},
     "output_type": "execute_result"
    }
   ],
   "source": [
    "from scipy.stats import pearsonr\n",
    "pearsonr(gene_summaries_given[\"nSNPs\"], gene_summaries_given[\"TopSNP P-Value\"])"
   ]
  },
  {
   "cell_type": "markdown",
   "metadata": {},
   "source": [
    "There is clear correlation between number of captured SNPs and the assigned TopSNP p-value, so we should probably normalize gene score by number of captured SNPs"
   ]
  },
  {
   "cell_type": "code",
   "execution_count": 10,
   "metadata": {},
   "outputs": [
    {
     "data": {
      "text/html": [
       "<div>\n",
       "<style scoped>\n",
       "    .dataframe tbody tr th:only-of-type {\n",
       "        vertical-align: middle;\n",
       "    }\n",
       "\n",
       "    .dataframe tbody tr th {\n",
       "        vertical-align: top;\n",
       "    }\n",
       "\n",
       "    .dataframe thead th {\n",
       "        text-align: right;\n",
       "    }\n",
       "</style>\n",
       "<table border=\"1\" class=\"dataframe\">\n",
       "  <thead>\n",
       "    <tr style=\"text-align: right;\">\n",
       "      <th></th>\n",
       "      <th>Chr</th>\n",
       "      <th>Gene Start</th>\n",
       "      <th>Gene End</th>\n",
       "    </tr>\n",
       "    <tr>\n",
       "      <th>Gene</th>\n",
       "      <th></th>\n",
       "      <th></th>\n",
       "      <th></th>\n",
       "    </tr>\n",
       "  </thead>\n",
       "  <tbody>\n",
       "    <tr>\n",
       "      <th>HIST1H4K</th>\n",
       "      <td>6</td>\n",
       "      <td>27906930</td>\n",
       "      <td>27907284</td>\n",
       "    </tr>\n",
       "    <tr>\n",
       "      <th>HIST1H2AK</th>\n",
       "      <td>6</td>\n",
       "      <td>27913636</td>\n",
       "      <td>27914096</td>\n",
       "    </tr>\n",
       "    <tr>\n",
       "      <th>HIST1H2BN</th>\n",
       "      <td>6</td>\n",
       "      <td>27914418</td>\n",
       "      <td>27914867</td>\n",
       "    </tr>\n",
       "    <tr>\n",
       "      <th>HIST1H2AL</th>\n",
       "      <td>6</td>\n",
       "      <td>27941085</td>\n",
       "      <td>27941555</td>\n",
       "    </tr>\n",
       "    <tr>\n",
       "      <th>HIST1H1B</th>\n",
       "      <td>6</td>\n",
       "      <td>27942548</td>\n",
       "      <td>27943338</td>\n",
       "    </tr>\n",
       "  </tbody>\n",
       "</table>\n",
       "</div>"
      ],
      "text/plain": [
       "          Chr  Gene Start  Gene End\n",
       "Gene                               \n",
       "HIST1H4K    6    27906930  27907284\n",
       "HIST1H2AK   6    27913636  27914096\n",
       "HIST1H2BN   6    27914418  27914867\n",
       "HIST1H2AL   6    27941085  27941555\n",
       "HIST1H1B    6    27942548  27943338"
      ]
     },
     "execution_count": 10,
     "metadata": {},
     "output_type": "execute_result"
    }
   ],
   "source": [
    "# Assign SNPs to genes based on +/- nkb window\n",
    "nkb = 10\n",
    "\n",
    "# Init new gene_summaries dataframe\n",
    "gene_summaries = gene_summaries_given.loc[:, [\"Chr\", \"Gene Start\", \"Gene End\"]]\n",
    "gene_summaries.head()"
   ]
  },
  {
   "cell_type": "markdown",
   "metadata": {},
   "source": [
    "Rescoring genes normalized by number of SNPs actually assigned to the gene."
   ]
  },
  {
   "cell_type": "code",
   "execution_count": 11,
   "metadata": {},
   "outputs": [],
   "source": [
    "gene_scores = []\n",
    "snp_counts = []\n",
    "min_p = []\n",
    "for gidx, gene in gene_summaries.iterrows():\n",
    "    chrom = gene[\"Chr\"]\n",
    "    \n",
    "    # filter for chromosome\n",
    "    this_snps = snp_summaries[snp_summaries[\"hg18chr\"] == chrom]\n",
    "    \n",
    "    # filter for upstream endpoint\n",
    "    this_snps = this_snps[this_snps[\"bp\"] >= gene[\"Gene Start\"] - (nkb * 1000)]\n",
    "    \n",
    "    # filter for downstream endpoint\n",
    "    this_snps = this_snps[this_snps[\"bp\"] <= gene[\"Gene End\"] + (nkb * 1000)]\n",
    "    \n",
    "    # Calculate adjusted bonferroni-adjusted p-value -> \"gene score\"\n",
    "    # pvals = [p * snp_summaries.shape[0] for p in this_snps.loc[:, \"pval\"].tolist()]\n",
    "    pvals = [p for p in this_snps.loc[:, \"pval\"].tolist()]\n",
    "    adj_score = min(pvals) / len(pvals)\n",
    "    min_p.append(min(pvals))\n",
    "    gene_scores.append(adj_score)\n",
    "    snp_counts.append(len(pvals))\n",
    "gene_summaries[\"Gene Score\"] = -np.log(gene_scores)\n",
    "gene_summaries[\"nSNPs\"] = snp_counts\n",
    "gene_summaries[\"TopSNP P-Value\"] = min_p"
   ]
  },
  {
   "cell_type": "code",
   "execution_count": 12,
   "metadata": {},
   "outputs": [
    {
     "data": {
      "text/html": [
       "<div>\n",
       "<style scoped>\n",
       "    .dataframe tbody tr th:only-of-type {\n",
       "        vertical-align: middle;\n",
       "    }\n",
       "\n",
       "    .dataframe tbody tr th {\n",
       "        vertical-align: top;\n",
       "    }\n",
       "\n",
       "    .dataframe thead th {\n",
       "        text-align: right;\n",
       "    }\n",
       "</style>\n",
       "<table border=\"1\" class=\"dataframe\">\n",
       "  <thead>\n",
       "    <tr style=\"text-align: right;\">\n",
       "      <th></th>\n",
       "      <th>Chr</th>\n",
       "      <th>Gene Start</th>\n",
       "      <th>Gene End</th>\n",
       "      <th>Gene Score</th>\n",
       "      <th>nSNPs</th>\n",
       "      <th>TopSNP P-Value</th>\n",
       "    </tr>\n",
       "    <tr>\n",
       "      <th>Gene</th>\n",
       "      <th></th>\n",
       "      <th></th>\n",
       "      <th></th>\n",
       "      <th></th>\n",
       "      <th></th>\n",
       "      <th></th>\n",
       "    </tr>\n",
       "  </thead>\n",
       "  <tbody>\n",
       "    <tr>\n",
       "      <th>HIST1H4K</th>\n",
       "      <td>6</td>\n",
       "      <td>27906930</td>\n",
       "      <td>27907284</td>\n",
       "      <td>23.481719</td>\n",
       "      <td>8</td>\n",
       "      <td>5.071180e-10</td>\n",
       "    </tr>\n",
       "    <tr>\n",
       "      <th>HIST1H2AK</th>\n",
       "      <td>6</td>\n",
       "      <td>27913636</td>\n",
       "      <td>27914096</td>\n",
       "      <td>24.174866</td>\n",
       "      <td>16</td>\n",
       "      <td>5.071180e-10</td>\n",
       "    </tr>\n",
       "    <tr>\n",
       "      <th>HIST1H2BN</th>\n",
       "      <td>6</td>\n",
       "      <td>27914418</td>\n",
       "      <td>27914867</td>\n",
       "      <td>24.235491</td>\n",
       "      <td>17</td>\n",
       "      <td>5.071180e-10</td>\n",
       "    </tr>\n",
       "    <tr>\n",
       "      <th>HIST1H2AL</th>\n",
       "      <td>6</td>\n",
       "      <td>27941085</td>\n",
       "      <td>27941555</td>\n",
       "      <td>23.374871</td>\n",
       "      <td>10</td>\n",
       "      <td>7.053790e-10</td>\n",
       "    </tr>\n",
       "    <tr>\n",
       "      <th>HIST1H1B</th>\n",
       "      <td>6</td>\n",
       "      <td>27942548</td>\n",
       "      <td>27943338</td>\n",
       "      <td>23.374871</td>\n",
       "      <td>10</td>\n",
       "      <td>7.053790e-10</td>\n",
       "    </tr>\n",
       "  </tbody>\n",
       "</table>\n",
       "</div>"
      ],
      "text/plain": [
       "          Chr  Gene Start  Gene End  Gene Score  nSNPs  TopSNP P-Value\n",
       "Gene                                                                  \n",
       "HIST1H4K    6    27906930  27907284   23.481719      8    5.071180e-10\n",
       "HIST1H2AK   6    27913636  27914096   24.174866     16    5.071180e-10\n",
       "HIST1H2BN   6    27914418  27914867   24.235491     17    5.071180e-10\n",
       "HIST1H2AL   6    27941085  27941555   23.374871     10    7.053790e-10\n",
       "HIST1H1B    6    27942548  27943338   23.374871     10    7.053790e-10"
      ]
     },
     "execution_count": 12,
     "metadata": {},
     "output_type": "execute_result"
    }
   ],
   "source": [
    "gene_summaries_preoverlap = gene_summaries\n",
    "gene_summaries_preoverlap.head()"
   ]
  },
  {
   "cell_type": "code",
   "execution_count": 13,
   "metadata": {},
   "outputs": [
    {
     "data": {
      "text/plain": [
       "<matplotlib.axes._subplots.AxesSubplot at 0x7f93a9941518>"
      ]
     },
     "execution_count": 13,
     "metadata": {},
     "output_type": "execute_result"
    },
    {
     "data": {
      "image/png": "[encoded data removed]",
      "text/plain": [
       "<Figure size 432x288 with 1 Axes>"
      ]
     },
     "metadata": {},
     "output_type": "display_data"
    }
   ],
   "source": [
    "# Plot the gene rescore vs nSNPs\n",
    "fig_rescore = plt.figure()\n",
    "ax = fig_rescore.add_subplot(111)\n",
    "sns.regplot(gene_summaries[\"nSNPs\"], gene_summaries[\"Gene Score\"], fit_reg = False)"
   ]
  },
  {
   "cell_type": "code",
   "execution_count": 14,
   "metadata": {},
   "outputs": [],
   "source": [
    "fig_rescore.savefig(\"../data/gene_score_correlation.png\")"
   ]
  },
  {
   "cell_type": "code",
   "execution_count": 15,
   "metadata": {},
   "outputs": [
    {
     "data": {
      "text/plain": [
       "(0.46740209322671267, 0.0)"
      ]
     },
     "execution_count": 15,
     "metadata": {},
     "output_type": "execute_result"
    }
   ],
   "source": [
    "pearsonr(gene_summaries[\"nSNPs\"], gene_summaries[\"Gene Score\"])"
   ]
  },
  {
   "cell_type": "code",
   "execution_count": 16,
   "metadata": {},
   "outputs": [
    {
     "name": "stderr",
     "output_type": "stream",
     "text": [
      "/usr/local/lib/python3.6/site-packages/matplotlib/axes/_axes.py:6462: UserWarning: The 'normed' kwarg is deprecated, and has been replaced by the 'density' kwarg.\n",
      "  warnings.warn(\"The 'normed' kwarg is deprecated, and has been \"\n"
     ]
    },
    {
     "data": {
      "text/plain": [
       "<matplotlib.axes._subplots.AxesSubplot at 0x7f93aa80fc50>"
      ]
     },
     "execution_count": 16,
     "metadata": {},
     "output_type": "execute_result"
    },
    {
     "data": {
      "image/png": "[encoded data removed]",
      "text/plain": [
       "<Figure size 432x288 with 1 Axes>"
      ]
     },
     "metadata": {},
     "output_type": "display_data"
    }
   ],
   "source": [
    "fig_dist = plt.figure()\n",
    "ax = fig_dist.add_subplot(111)\n",
    "sns.distplot(gene_summaries[\"Gene Score\"])"
   ]
  },
  {
   "cell_type": "code",
   "execution_count": 17,
   "metadata": {},
   "outputs": [],
   "source": [
    "fig_dist.savefig(\"../data/GeneScoreDistribution.png\")"
   ]
  },
  {
   "cell_type": "code",
   "execution_count": 18,
   "metadata": {},
   "outputs": [
    {
     "data": {
      "text/plain": [
       "12.89921982609012"
      ]
     },
     "execution_count": 18,
     "metadata": {},
     "output_type": "execute_result"
    }
   ],
   "source": [
    "new_threshold = -math.log(0.05 / 20000)\n",
    "new_threshold"
   ]
  },
  {
   "cell_type": "markdown",
   "metadata": {},
   "source": [
    "Initial size of significant gene set"
   ]
  },
  {
   "cell_type": "code",
   "execution_count": 19,
   "metadata": {},
   "outputs": [
    {
     "data": {
      "text/plain": [
       "(231, 6)"
      ]
     },
     "execution_count": 19,
     "metadata": {},
     "output_type": "execute_result"
    }
   ],
   "source": [
    "gene_summaries[gene_summaries[\"Gene Score\"] >= new_threshold].shape"
   ]
  },
  {
   "cell_type": "markdown",
   "metadata": {},
   "source": [
    "### Adding information to the network"
   ]
  },
  {
   "cell_type": "code",
   "execution_count": 20,
   "metadata": {},
   "outputs": [],
   "source": [
    "nx.set_node_attributes(net, values = gene_summaries.T.to_dict())"
   ]
  },
  {
   "cell_type": "markdown",
   "metadata": {},
   "source": [
    "## PageRank"
   ]
  },
  {
   "cell_type": "markdown",
   "metadata": {},
   "source": [
    "Create normalized adjacency matrix"
   ]
  },
  {
   "cell_type": "code",
   "execution_count": 29,
   "metadata": {},
   "outputs": [],
   "source": [
    "pagerank = nx.pagerank(net)\n",
    "gene_summaries[\"Gene ReScorePR\"] = [-np.log(pagerank[_]) + gene_summaries.loc[_, \"Gene Score\"] \n",
    "                                    if _ in pagerank else gene_summaries.loc[_, \"Gene Score\"]\n",
    "                                    for _ in gene_summaries.index]"
   ]
  },
  {
   "cell_type": "code",
   "execution_count": 30,
   "metadata": {},
   "outputs": [
    {
     "data": {
      "text/html": [
       "<div>\n",
       "<style scoped>\n",
       "    .dataframe tbody tr th:only-of-type {\n",
       "        vertical-align: middle;\n",
       "    }\n",
       "\n",
       "    .dataframe tbody tr th {\n",
       "        vertical-align: top;\n",
       "    }\n",
       "\n",
       "    .dataframe thead th {\n",
       "        text-align: right;\n",
       "    }\n",
       "</style>\n",
       "<table border=\"1\" class=\"dataframe\">\n",
       "  <thead>\n",
       "    <tr style=\"text-align: right;\">\n",
       "      <th></th>\n",
       "      <th>Chr</th>\n",
       "      <th>Gene Start</th>\n",
       "      <th>Gene End</th>\n",
       "      <th>Gene Score</th>\n",
       "      <th>nSNPs</th>\n",
       "      <th>TopSNP P-Value</th>\n",
       "      <th>Gene ReScorePR</th>\n",
       "    </tr>\n",
       "    <tr>\n",
       "      <th>Gene</th>\n",
       "      <th></th>\n",
       "      <th></th>\n",
       "      <th></th>\n",
       "      <th></th>\n",
       "      <th></th>\n",
       "      <th></th>\n",
       "      <th></th>\n",
       "    </tr>\n",
       "  </thead>\n",
       "  <tbody>\n",
       "    <tr>\n",
       "      <th>HIST1H2BN</th>\n",
       "      <td>6</td>\n",
       "      <td>27914418</td>\n",
       "      <td>27914867</td>\n",
       "      <td>24.235491</td>\n",
       "      <td>17</td>\n",
       "      <td>5.071180e-10</td>\n",
       "      <td>35.677608</td>\n",
       "    </tr>\n",
       "    <tr>\n",
       "      <th>PGBD1</th>\n",
       "      <td>6</td>\n",
       "      <td>28357342</td>\n",
       "      <td>28378305</td>\n",
       "      <td>23.912550</td>\n",
       "      <td>30</td>\n",
       "      <td>1.236040e-09</td>\n",
       "      <td>34.485277</td>\n",
       "    </tr>\n",
       "    <tr>\n",
       "      <th>HIST1H2BD</th>\n",
       "      <td>6</td>\n",
       "      <td>26266327</td>\n",
       "      <td>26279555</td>\n",
       "      <td>23.054182</td>\n",
       "      <td>15</td>\n",
       "      <td>1.458100e-09</td>\n",
       "      <td>33.905292</td>\n",
       "    </tr>\n",
       "    <tr>\n",
       "      <th>HIST1H1E</th>\n",
       "      <td>6</td>\n",
       "      <td>26264537</td>\n",
       "      <td>26265322</td>\n",
       "      <td>22.744027</td>\n",
       "      <td>11</td>\n",
       "      <td>1.458100e-09</td>\n",
       "      <td>33.383207</td>\n",
       "    </tr>\n",
       "    <tr>\n",
       "      <th>HIST1H1B</th>\n",
       "      <td>6</td>\n",
       "      <td>27942548</td>\n",
       "      <td>27943338</td>\n",
       "      <td>23.374871</td>\n",
       "      <td>10</td>\n",
       "      <td>7.053790e-10</td>\n",
       "      <td>32.106955</td>\n",
       "    </tr>\n",
       "  </tbody>\n",
       "</table>\n",
       "</div>"
      ],
      "text/plain": [
       "          Chr  Gene Start  Gene End  Gene Score  nSNPs  TopSNP P-Value  \\\n",
       "Gene                                                                     \n",
       "HIST1H2BN   6    27914418  27914867   24.235491     17    5.071180e-10   \n",
       "PGBD1       6    28357342  28378305   23.912550     30    1.236040e-09   \n",
       "HIST1H2BD   6    26266327  26279555   23.054182     15    1.458100e-09   \n",
       "HIST1H1E    6    26264537  26265322   22.744027     11    1.458100e-09   \n",
       "HIST1H1B    6    27942548  27943338   23.374871     10    7.053790e-10   \n",
       "\n",
       "           Gene ReScorePR  \n",
       "Gene                       \n",
       "HIST1H2BN       35.677608  \n",
       "PGBD1           34.485277  \n",
       "HIST1H2BD       33.905292  \n",
       "HIST1H1E        33.383207  \n",
       "HIST1H1B        32.106955  "
      ]
     },
     "execution_count": 30,
     "metadata": {},
     "output_type": "execute_result"
    }
   ],
   "source": [
    "gene_summaries.sort_values(by = [\"Gene ReScorePR\"], axis = 0, ascending = False).head()"
   ]
  },
  {
   "cell_type": "code",
   "execution_count": 31,
   "metadata": {},
   "outputs": [],
   "source": [
    "gene_summaries.sort_values(by = [\"Gene ReScorePR\"], axis = 0, ascending = False).to_csv(\"../data/gene_list_output_take2.csv\")"
   ]
  },
  {
   "cell_type": "code",
   "execution_count": 72,
   "metadata": {},
   "outputs": [
    {
     "data": {
      "text/plain": [
       "(9333, 8)"
      ]
     },
     "execution_count": 72,
     "metadata": {},
     "output_type": "execute_result"
    }
   ],
   "source": [
    "gene_summaries[gene_summaries[\"Gene ReScorePR\"] >= new_threshold].shape"
   ]
  },
  {
   "cell_type": "code",
   "execution_count": 34,
   "metadata": {},
   "outputs": [
    {
     "name": "stderr",
     "output_type": "stream",
     "text": [
      "/usr/local/lib/python3.6/site-packages/matplotlib/axes/_axes.py:6462: UserWarning: The 'normed' kwarg is deprecated, and has been replaced by the 'density' kwarg.\n",
      "  warnings.warn(\"The 'normed' kwarg is deprecated, and has been \"\n"
     ]
    },
    {
     "data": {
      "text/plain": [
       "<matplotlib.axes._subplots.AxesSubplot at 0x7f93a8a9e780>"
      ]
     },
     "execution_count": 34,
     "metadata": {},
     "output_type": "execute_result"
    },
    {
     "data": {
      "image/png": "[encoded data removed]",
      "text/plain": [
       "<Figure size 432x288 with 1 Axes>"
      ]
     },
     "metadata": {},
     "output_type": "display_data"
    }
   ],
   "source": [
    "sns.distplot(-np.log(list(pagerank.values())))"
   ]
  },
  {
   "cell_type": "markdown",
   "metadata": {},
   "source": [
    "## Random Walk With Restart"
   ]
  },
  {
   "cell_type": "code",
   "execution_count": 35,
   "metadata": {},
   "outputs": [],
   "source": [
    "A = nx.to_numpy_matrix(net)\n",
    "D = np.diag(list(dict(net.degree()).values()))\n",
    "invD = np.diag([1 / _ if _ > 0 else 0 for _ in list(dict(net.degree()).values())])"
   ]
  },
  {
   "cell_type": "code",
   "execution_count": 36,
   "metadata": {},
   "outputs": [],
   "source": [
    "alpha = 0.1"
   ]
  },
  {
   "cell_type": "code",
   "execution_count": 37,
   "metadata": {},
   "outputs": [],
   "source": [
    "similarity = alpha * np.linalg.inv((np.eye(len(A)) - (1 - alpha) * np.dot(A, invD)))"
   ]
  },
  {
   "cell_type": "code",
   "execution_count": 43,
   "metadata": {},
   "outputs": [],
   "source": [
    "# Subset the similarity matrix\n",
    "# Get indexes of nodes found in gene_summaries\n",
    "idx = [list(net.nodes).index(_) for _ in gene_summaries.index if _ in list(net.nodes)]\n",
    "sub_sim = np.take(np.take(similarity, idx, 0), idx, 1)"
   ]
  },
  {
   "cell_type": "code",
   "execution_count": 52,
   "metadata": {},
   "outputs": [],
   "source": [
    "# Also subset the summaries matrix\n",
    "sub_sum = gene_summaries.loc[:, \"Gene Score\"][idx]"
   ]
  },
  {
   "cell_type": "code",
   "execution_count": 62,
   "metadata": {},
   "outputs": [],
   "source": [
    "# Rescoring calculation\n",
    "rescore = np.dot(sub_sim, sub_sum)"
   ]
  },
  {
   "cell_type": "code",
   "execution_count": 65,
   "metadata": {},
   "outputs": [],
   "source": [
    "rescore_array = np.array(rescore[0, :])[0, :]\n",
    "rescore_dict = {g: s for g, s in zip(sub_sum.index, rescore_array)}"
   ]
  },
  {
   "cell_type": "code",
   "execution_count": 66,
   "metadata": {},
   "outputs": [],
   "source": [
    "gene_summaries[\"Gene ReScoreRWR\"] = [rescore_dict[gene] \n",
    "                                     if gene in rescore_dict \n",
    "                                     else gene_summaries.loc[gene, \"Gene Score\"] \n",
    "                                     for gene in gene_summaries.index]"
   ]
  },
  {
   "cell_type": "code",
   "execution_count": 73,
   "metadata": {},
   "outputs": [
    {
     "data": {
      "text/plain": [
       "(895, 8)"
      ]
     },
     "execution_count": 73,
     "metadata": {},
     "output_type": "execute_result"
    }
   ],
   "source": [
    "gene_summaries[gene_summaries[\"Gene ReScoreRWR\"] >= new_threshold].shape"
   ]
  },
  {
   "cell_type": "markdown",
   "metadata": {},
   "source": [
    "## Validation"
   ]
  },
  {
   "cell_type": "code",
   "execution_count": 69,
   "metadata": {},
   "outputs": [
    {
     "data": {
      "text/html": [
       "<div>\n",
       "<style scoped>\n",
       "    .dataframe tbody tr th:only-of-type {\n",
       "        vertical-align: middle;\n",
       "    }\n",
       "\n",
       "    .dataframe tbody tr th {\n",
       "        vertical-align: top;\n",
       "    }\n",
       "\n",
       "    .dataframe thead th {\n",
       "        text-align: right;\n",
       "    }\n",
       "</style>\n",
       "<table border=\"1\" class=\"dataframe\">\n",
       "  <thead>\n",
       "    <tr style=\"text-align: right;\">\n",
       "      <th></th>\n",
       "      <th>Chr</th>\n",
       "      <th>Gene Start</th>\n",
       "      <th>Gene End</th>\n",
       "      <th>Gene Score</th>\n",
       "      <th>nSNPs</th>\n",
       "      <th>TopSNP P-Value</th>\n",
       "      <th>Gene ReScorePR</th>\n",
       "      <th>Gene ReScoreRWR</th>\n",
       "    </tr>\n",
       "    <tr>\n",
       "      <th>Gene</th>\n",
       "      <th></th>\n",
       "      <th></th>\n",
       "      <th></th>\n",
       "      <th></th>\n",
       "      <th></th>\n",
       "      <th></th>\n",
       "      <th></th>\n",
       "      <th></th>\n",
       "    </tr>\n",
       "  </thead>\n",
       "  <tbody>\n",
       "    <tr>\n",
       "      <th>MCC</th>\n",
       "      <td>5</td>\n",
       "      <td>112434689</td>\n",
       "      <td>112658511</td>\n",
       "      <td>12.619102</td>\n",
       "      <td>183</td>\n",
       "      <td>0.000605</td>\n",
       "      <td>23.894569</td>\n",
       "      <td>76.663970</td>\n",
       "    </tr>\n",
       "    <tr>\n",
       "      <th>VPS45</th>\n",
       "      <td>1</td>\n",
       "      <td>148315890</td>\n",
       "      <td>148384129</td>\n",
       "      <td>10.427698</td>\n",
       "      <td>16</td>\n",
       "      <td>0.000474</td>\n",
       "      <td>21.066816</td>\n",
       "      <td>70.134934</td>\n",
       "    </tr>\n",
       "    <tr>\n",
       "      <th>CARS2</th>\n",
       "      <td>13</td>\n",
       "      <td>110091759</td>\n",
       "      <td>110156464</td>\n",
       "      <td>11.540753</td>\n",
       "      <td>50</td>\n",
       "      <td>0.000486</td>\n",
       "      <td>22.462777</td>\n",
       "      <td>61.680091</td>\n",
       "    </tr>\n",
       "    <tr>\n",
       "      <th>NPAT</th>\n",
       "      <td>11</td>\n",
       "      <td>107547084</td>\n",
       "      <td>107565274</td>\n",
       "      <td>3.493207</td>\n",
       "      <td>9</td>\n",
       "      <td>0.273629</td>\n",
       "      <td>12.668710</td>\n",
       "      <td>61.034015</td>\n",
       "    </tr>\n",
       "    <tr>\n",
       "      <th>LRP5</th>\n",
       "      <td>11</td>\n",
       "      <td>67836683</td>\n",
       "      <td>67973319</td>\n",
       "      <td>13.904576</td>\n",
       "      <td>63</td>\n",
       "      <td>0.000058</td>\n",
       "      <td>23.796631</td>\n",
       "      <td>58.744471</td>\n",
       "    </tr>\n",
       "  </tbody>\n",
       "</table>\n",
       "</div>"
      ],
      "text/plain": [
       "      Chr  Gene Start   Gene End  Gene Score  nSNPs  TopSNP P-Value  \\\n",
       "Gene                                                                  \n",
       "MCC     5   112434689  112658511   12.619102    183        0.000605   \n",
       "VPS45   1   148315890  148384129   10.427698     16        0.000474   \n",
       "CARS2  13   110091759  110156464   11.540753     50        0.000486   \n",
       "NPAT   11   107547084  107565274    3.493207      9        0.273629   \n",
       "LRP5   11    67836683   67973319   13.904576     63        0.000058   \n",
       "\n",
       "       Gene ReScorePR  Gene ReScoreRWR  \n",
       "Gene                                    \n",
       "MCC         23.894569        76.663970  \n",
       "VPS45       21.066816        70.134934  \n",
       "CARS2       22.462777        61.680091  \n",
       "NPAT        12.668710        61.034015  \n",
       "LRP5        23.796631        58.744471  "
      ]
     },
     "execution_count": 69,
     "metadata": {},
     "output_type": "execute_result"
    }
   ],
   "source": [
    "gene_summaries.sort_values(by = \"Gene ReScoreRWR\", axis = 0, ascending = False).head()"
   ]
  },
  {
   "cell_type": "code",
   "execution_count": 71,
   "metadata": {},
   "outputs": [
    {
     "data": {
      "text/html": [
       "<div>\n",
       "<style scoped>\n",
       "    .dataframe tbody tr th:only-of-type {\n",
       "        vertical-align: middle;\n",
       "    }\n",
       "\n",
       "    .dataframe tbody tr th {\n",
       "        vertical-align: top;\n",
       "    }\n",
       "\n",
       "    .dataframe thead th {\n",
       "        text-align: right;\n",
       "    }\n",
       "</style>\n",
       "<table border=\"1\" class=\"dataframe\">\n",
       "  <thead>\n",
       "    <tr style=\"text-align: right;\">\n",
       "      <th></th>\n",
       "      <th>Chr</th>\n",
       "      <th>Gene Start</th>\n",
       "      <th>Gene End</th>\n",
       "      <th>Gene Score</th>\n",
       "      <th>nSNPs</th>\n",
       "      <th>TopSNP P-Value</th>\n",
       "      <th>Gene ReScorePR</th>\n",
       "      <th>Gene ReScoreRWR</th>\n",
       "    </tr>\n",
       "    <tr>\n",
       "      <th>Gene</th>\n",
       "      <th></th>\n",
       "      <th></th>\n",
       "      <th></th>\n",
       "      <th></th>\n",
       "      <th></th>\n",
       "      <th></th>\n",
       "      <th></th>\n",
       "      <th></th>\n",
       "    </tr>\n",
       "  </thead>\n",
       "  <tbody>\n",
       "    <tr>\n",
       "      <th>HIST1H2BN</th>\n",
       "      <td>6</td>\n",
       "      <td>27914418</td>\n",
       "      <td>27914867</td>\n",
       "      <td>24.235491</td>\n",
       "      <td>17</td>\n",
       "      <td>5.071180e-10</td>\n",
       "      <td>35.677608</td>\n",
       "      <td>24.235491</td>\n",
       "    </tr>\n",
       "    <tr>\n",
       "      <th>PGBD1</th>\n",
       "      <td>6</td>\n",
       "      <td>28357342</td>\n",
       "      <td>28378305</td>\n",
       "      <td>23.912550</td>\n",
       "      <td>30</td>\n",
       "      <td>1.236040e-09</td>\n",
       "      <td>34.485277</td>\n",
       "      <td>22.020815</td>\n",
       "    </tr>\n",
       "    <tr>\n",
       "      <th>HIST1H2BD</th>\n",
       "      <td>6</td>\n",
       "      <td>26266327</td>\n",
       "      <td>26279555</td>\n",
       "      <td>23.054182</td>\n",
       "      <td>15</td>\n",
       "      <td>1.458100e-09</td>\n",
       "      <td>33.905292</td>\n",
       "      <td>23.054182</td>\n",
       "    </tr>\n",
       "    <tr>\n",
       "      <th>HIST1H1E</th>\n",
       "      <td>6</td>\n",
       "      <td>26264537</td>\n",
       "      <td>26265322</td>\n",
       "      <td>22.744027</td>\n",
       "      <td>11</td>\n",
       "      <td>1.458100e-09</td>\n",
       "      <td>33.383207</td>\n",
       "      <td>2.317093</td>\n",
       "    </tr>\n",
       "    <tr>\n",
       "      <th>HIST1H1B</th>\n",
       "      <td>6</td>\n",
       "      <td>27942548</td>\n",
       "      <td>27943338</td>\n",
       "      <td>23.374871</td>\n",
       "      <td>10</td>\n",
       "      <td>7.053790e-10</td>\n",
       "      <td>32.106955</td>\n",
       "      <td>23.374871</td>\n",
       "    </tr>\n",
       "  </tbody>\n",
       "</table>\n",
       "</div>"
      ],
      "text/plain": [
       "          Chr  Gene Start  Gene End  Gene Score  nSNPs  TopSNP P-Value  \\\n",
       "Gene                                                                     \n",
       "HIST1H2BN   6    27914418  27914867   24.235491     17    5.071180e-10   \n",
       "PGBD1       6    28357342  28378305   23.912550     30    1.236040e-09   \n",
       "HIST1H2BD   6    26266327  26279555   23.054182     15    1.458100e-09   \n",
       "HIST1H1E    6    26264537  26265322   22.744027     11    1.458100e-09   \n",
       "HIST1H1B    6    27942548  27943338   23.374871     10    7.053790e-10   \n",
       "\n",
       "           Gene ReScorePR  Gene ReScoreRWR  \n",
       "Gene                                        \n",
       "HIST1H2BN       35.677608        24.235491  \n",
       "PGBD1           34.485277        22.020815  \n",
       "HIST1H2BD       33.905292        23.054182  \n",
       "HIST1H1E        33.383207         2.317093  \n",
       "HIST1H1B        32.106955        23.374871  "
      ]
     },
     "execution_count": 71,
     "metadata": {},
     "output_type": "execute_result"
    }
   ],
   "source": [
    "gene_summaries.sort_values(by = \"Gene ReScorePR\", axis = 0, ascending = False).head()"
   ]
  },
  {
   "cell_type": "code",
   "execution_count": 81,
   "metadata": {},
   "outputs": [],
   "source": [
    "gs_rwr = gene_summaries.sort_values(by = [\"Gene ReScoreRWR\"], axis = 0, ascending = False).index.tolist()[:1000]"
   ]
  },
  {
   "cell_type": "code",
   "execution_count": 82,
   "metadata": {},
   "outputs": [],
   "source": [
    "gs_pr = gene_summaries.sort_values(by = [\"Gene ReScorePR\"], axis = 0, ascending = False).index.tolist()[:1000]"
   ]
  },
  {
   "cell_type": "code",
   "execution_count": 83,
   "metadata": {},
   "outputs": [
    {
     "name": "stderr",
     "output_type": "stream",
     "text": [
      "/usr/local/lib/python3.6/site-packages/scipy/stats/stats.py:245: RuntimeWarning: The input array could not be properly checked for nan values. nan values will be ignored.\n",
      "  \"values. nan values will be ignored.\", RuntimeWarning)\n"
     ]
    },
    {
     "data": {
      "text/plain": [
       "SpearmanrResult(correlation=0.03477287877287877, pvalue=0.27195484106516743)"
      ]
     },
     "execution_count": 83,
     "metadata": {},
     "output_type": "execute_result"
    }
   ],
   "source": [
    "spearmanr(gs_rwr, gs_pr)"
   ]
  },
  {
   "cell_type": "code",
   "execution_count": null,
   "metadata": {},
   "outputs": [],
   "source": []
  }
 ],
 "metadata": {
  "kernelspec": {
   "display_name": "Python 3",
   "language": "python",
   "name": "python3"
  },
  "language_info": {
   "codemirror_mode": {
    "name": "ipython",
    "version": 3
   },
   "file_extension": ".py",
   "mimetype": "text/x-python",
   "name": "python",
   "nbconvert_exporter": "python",
   "pygments_lexer": "ipython3",
   "version": "3.6.5"
  }
 },
 "nbformat": 4,
 "nbformat_minor": 2
}
